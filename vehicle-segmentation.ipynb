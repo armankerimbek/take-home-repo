version https://git-lfs.github.com/spec/v1
oid sha256:9b35655b779c91ccfdc9e1255e6028aa7c052a45ddf5d4f7764b0200318bc0cb
size 143792335

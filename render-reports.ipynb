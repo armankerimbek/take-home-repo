version https://git-lfs.github.com/spec/v1
oid sha256:10a048f6471967d62fe955361c01cefadac8706ec5ac04d07d6bd7cf11ab453b
size 15387
